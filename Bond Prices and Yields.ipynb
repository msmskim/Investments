{
 "cells": [
  {
   "cell_type": "code",
   "execution_count": 2,
   "metadata": {},
   "outputs": [],
   "source": [
    "import pandas as pd\n",
    "import numpy as np\n",
    "\n",
    "coupon_rate = 0.08\n",
    "\n",
    "semiannual_coupon_payment = 40\n",
    "\n",
    "day_since_last_coupon_payment = 30\n",
    "\n",
    "accured_interest = semiannual_coupon_payment * (day_since_last_coupon_payment/182)\n",
    "\n",
    "quoted_price_of_bond = 990\n",
    "\n",
    "invoice_price = quoted_price_of_bond + accured_interest"
   ]
  },
  {
   "cell_type": "code",
   "execution_count": 5,
   "metadata": {},
   "outputs": [
    {
     "name": "stdout",
     "output_type": "stream",
     "text": [
      "accured_interest: 6.59$, invoice_price: 996.59$\n"
     ]
    }
   ],
   "source": [
    "print(f'accured_interest: {accured_interest:.2f}$, invoice_price: {invoice_price:.2f}$')"
   ]
  },
  {
   "cell_type": "code",
   "execution_count": 9,
   "metadata": {},
   "outputs": [
    {
     "name": "stdout",
     "output_type": "stream",
     "text": [
      "price_appreciation: 20.0\n",
      "interest: 40.80\n",
      "normial_return: 0.06\n",
      "real_return: 0.04\n"
     ]
    }
   ],
   "source": [
    "# Normial return & real return\n",
    "par_value = 1000\n",
    "inflation = 0.02\n",
    "price_appreciation = par_value * inflation\n",
    "print(f'price_appreciation: {price_appreciation}')\n",
    "coupon_rate = 0.04\n",
    "interest = (par_value + price_appreciation) * coupon_rate\n",
    "print(f'interest: {interest:.2f}')\n",
    "normial_return = (interest + price_appreciation) / par_value\n",
    "print(f'normial_return: {normial_return:.2f}')\n",
    "real_return = (1+ normial_return) / (1 + inflation) - 1\n",
    "print(f'real_return: {real_return:.2f}')"
   ]
  },
  {
   "cell_type": "code",
   "execution_count": 14,
   "metadata": {},
   "outputs": [],
   "source": [
    "# Bond Pricing\n",
    "six_month_coupon = 0.04\n",
    "paying_periods = 60\n",
    "par_value = 1000\n",
    "coupon_payments = 40\n",
    "\n",
    "annuity_factor = 0\n",
    "for i in range(1, paying_periods+1):\n",
    "    annuity_tmp = coupon_payments / (1.04 ** i)\n",
    "    annuity_factor += annuity_tmp"
   ]
  },
  {
   "cell_type": "code",
   "execution_count": 23,
   "metadata": {},
   "outputs": [
    {
     "name": "stdout",
     "output_type": "stream",
     "text": [
      "bond_value: 1000.00$\n"
     ]
    }
   ],
   "source": [
    "PV_factor = 1000 / (1.04 ** 60)\n",
    "\n",
    "bond_value = annuity_factor + PV_factor\n",
    "print(f'bond_value: {bond_value:.2f}$')"
   ]
  },
  {
   "cell_type": "code",
   "execution_count": 24,
   "metadata": {},
   "outputs": [
    {
     "name": "stdout",
     "output_type": "stream",
     "text": [
      "price: 810.71$\n"
     ]
    }
   ],
   "source": [
    "interest = 0.05\n",
    "price = coupon_payments * ((1/interest)*(1-(1/((1+interest)**paying_periods)))) + par_value * (1 / ((1+interest)**paying_periods))\n",
    "print(f'price: {price:.2f}$')"
   ]
  },
  {
   "cell_type": "code",
   "execution_count": 28,
   "metadata": {},
   "outputs": [
    {
     "name": "stdout",
     "output_type": "stream",
     "text": [
      "interest: 0.09909053312272698\n"
     ]
    }
   ],
   "source": [
    "# Realized Compound Return\n",
    "par_value = 1000\n",
    "total_value = 1208\n",
    "interest = (1208/1000)**(1/2) - 1\n",
    "print(f'interest: {interest:}')"
   ]
  },
  {
   "cell_type": "code",
   "execution_count": 29,
   "metadata": {},
   "outputs": [
    {
     "data": {
      "text/plain": [
       "0.13"
      ]
     },
     "execution_count": 29,
     "metadata": {},
     "output_type": "execute_result"
    }
   ],
   "source": [
    "# Yield to Maturity versus Holding-Period Return\n",
    "par_value = 1000\n",
    "annual_coupon = 80\n",
    "final_value = 1050\n",
    "holding_period_return = (annual_coupon + (final_value - par_value)) / par_value\n",
    "holding_period_return"
   ]
  },
  {
   "cell_type": "code",
   "execution_count": 31,
   "metadata": {},
   "outputs": [
    {
     "name": "stdout",
     "output_type": "stream",
     "text": [
      "total: 1.2250\n"
     ]
    }
   ],
   "source": [
    "# expectation theory\n",
    "money = 1\n",
    "three_interest = 0.07\n",
    "two_interest = 0.06\n",
    "total = money * ((1 + three_interest) ** 3)\n",
    "print(f'total: {total:.4f}')"
   ]
  },
  {
   "cell_type": "code",
   "execution_count": 34,
   "metadata": {},
   "outputs": [
    {
     "data": {
      "text/plain": [
       "0.09028390886436455"
      ]
     },
     "execution_count": 34,
     "metadata": {},
     "output_type": "execute_result"
    }
   ],
   "source": [
    "f = total / (1 * ((1.06)**2)) - 1\n",
    "f"
   ]
  },
  {
   "cell_type": "code",
   "execution_count": 36,
   "metadata": {},
   "outputs": [
    {
     "data": {
      "text/plain": [
       "0.08498847920150765"
      ]
     },
     "execution_count": 36,
     "metadata": {},
     "output_type": "execute_result"
    }
   ],
   "source": [
    "# Liquidity Premiums and the Yield Curve\n",
    "short_term_rate = 0.08\n",
    "liquidity_premium_rate = 0.01\n",
    "forward_rate = short_term_rate + liquidity_premium_rate\n",
    "y = ((1+short_term_rate) * (1+forward_rate)) ** (1/2) - 1\n",
    "y"
   ]
  }
 ],
 "metadata": {
  "kernelspec": {
   "display_name": "Python 3",
   "language": "python",
   "name": "python3"
  },
  "language_info": {
   "codemirror_mode": {
    "name": "ipython",
    "version": 3
   },
   "file_extension": ".py",
   "mimetype": "text/x-python",
   "name": "python",
   "nbconvert_exporter": "python",
   "pygments_lexer": "ipython3",
   "version": "3.7.3"
  }
 },
 "nbformat": 4,
 "nbformat_minor": 2
}
