{
 "cells": [
  {
   "cell_type": "code",
   "execution_count": 1,
   "metadata": {},
   "outputs": [
    {
     "name": "stdout",
     "output_type": "stream",
     "text": [
      "(4, 4)\n"
     ]
    },
    {
     "data": {
      "text/html": [
       "<div>\n",
       "<style scoped>\n",
       "    .dataframe tbody tr th:only-of-type {\n",
       "        vertical-align: middle;\n",
       "    }\n",
       "\n",
       "    .dataframe tbody tr th {\n",
       "        vertical-align: top;\n",
       "    }\n",
       "\n",
       "    .dataframe thead th {\n",
       "        text-align: right;\n",
       "    }\n",
       "</style>\n",
       "<table border=\"1\" class=\"dataframe\">\n",
       "  <thead>\n",
       "    <tr style=\"text-align: right;\">\n",
       "      <th></th>\n",
       "      <th>Scenario</th>\n",
       "      <th>Probability</th>\n",
       "      <th>Stock Rate of Return</th>\n",
       "      <th>Bond Rate of Return</th>\n",
       "    </tr>\n",
       "  </thead>\n",
       "  <tbody>\n",
       "    <tr>\n",
       "      <th>0</th>\n",
       "      <td>Severe recession</td>\n",
       "      <td>0.05</td>\n",
       "      <td>-37</td>\n",
       "      <td>-9</td>\n",
       "    </tr>\n",
       "    <tr>\n",
       "      <th>1</th>\n",
       "      <td>Miki recession</td>\n",
       "      <td>0.25</td>\n",
       "      <td>-11</td>\n",
       "      <td>15</td>\n",
       "    </tr>\n",
       "    <tr>\n",
       "      <th>2</th>\n",
       "      <td>Normal growth</td>\n",
       "      <td>0.40</td>\n",
       "      <td>14</td>\n",
       "      <td>8</td>\n",
       "    </tr>\n",
       "    <tr>\n",
       "      <th>3</th>\n",
       "      <td>Boom</td>\n",
       "      <td>0.30</td>\n",
       "      <td>30</td>\n",
       "      <td>-5</td>\n",
       "    </tr>\n",
       "  </tbody>\n",
       "</table>\n",
       "</div>"
      ],
      "text/plain": [
       "           Scenario  Probability  Stock Rate of Return  Bond Rate of Return\n",
       "0  Severe recession         0.05                   -37                   -9\n",
       "1    Miki recession         0.25                   -11                   15\n",
       "2     Normal growth         0.40                    14                    8\n",
       "3              Boom         0.30                    30                   -5"
      ]
     },
     "execution_count": 1,
     "metadata": {},
     "output_type": "execute_result"
    }
   ],
   "source": [
    "import pandas as pd\n",
    "import numpy as np\n",
    "\n",
    "data = {'Scenario': ['Severe recession', 'Miki recession', 'Normal growth', 'Boom'],\n",
    "        'Probability': [0.05, 0.25, 0.40, 0.30],\n",
    "        'Stock Rate of Return': [-37, -11, 14, 30],\n",
    "        'Bond Rate of Return': [-9, 15, 8, -5]}\n",
    "\n",
    "data = pd.DataFrame(data)\n",
    "print(data.shape)\n",
    "data.head()"
   ]
  },
  {
   "cell_type": "code",
   "execution_count": 10,
   "metadata": {},
   "outputs": [
    {
     "data": {
      "text/plain": [
       "10.0"
      ]
     },
     "execution_count": 10,
     "metadata": {},
     "output_type": "execute_result"
    }
   ],
   "source": [
    "# Stock expected return\n",
    "data['prodotstock'] = data['Probability'] * data['Stock Rate of Return']\n",
    "stock_expected_return = data['prodotstock'].sum()\n",
    "stock_expected_return"
   ]
  },
  {
   "cell_type": "code",
   "execution_count": 11,
   "metadata": {},
   "outputs": [
    {
     "data": {
      "text/plain": [
       "5.0"
      ]
     },
     "execution_count": 11,
     "metadata": {},
     "output_type": "execute_result"
    }
   ],
   "source": [
    "# Bond expected return\n",
    "data['prodotbond'] = data['Probability'] * data['Bond Rate of Return']\n",
    "bond_expected_return = data['prodotbond'].sum()\n",
    "bond_expected_return"
   ]
  },
  {
   "cell_type": "code",
   "execution_count": 15,
   "metadata": {},
   "outputs": [
    {
     "data": {
      "text/plain": [
       "347.1"
      ]
     },
     "execution_count": 15,
     "metadata": {},
     "output_type": "execute_result"
    }
   ],
   "source": [
    "# Calculating Stock Variance\n",
    "data['Stock Squared Deviation'] = (data['Stock Rate of Return'] - stock_expected_return) ** 2\n",
    "Stock_Variance = (data['Stock Squared Deviation'] * data['Probability']).sum()\n",
    "Stock_Variance"
   ]
  },
  {
   "cell_type": "code",
   "execution_count": 18,
   "metadata": {},
   "outputs": [
    {
     "data": {
      "text/plain": [
       "18.630619957478604"
      ]
     },
     "execution_count": 18,
     "metadata": {},
     "output_type": "execute_result"
    }
   ],
   "source": [
    "# Calculating Stock Standard Deviation\n",
    "Stock_std = np.sqrt(Stock_Variance)\n",
    "Stock_std"
   ]
  },
  {
   "cell_type": "code",
   "execution_count": 17,
   "metadata": {},
   "outputs": [
    {
     "data": {
      "text/plain": [
       "68.4"
      ]
     },
     "execution_count": 17,
     "metadata": {},
     "output_type": "execute_result"
    }
   ],
   "source": [
    "# Calculating Bond Variance\n",
    "data['Bond Squared Deviation'] = (data['Bond Rate of Return'] - bond_expected_return) ** 2\n",
    "Bond_Variance = (data['Bond Squared Deviation'] * data['Probability']).sum()\n",
    "Bond_Variance"
   ]
  },
  {
   "cell_type": "code",
   "execution_count": 32,
   "metadata": {},
   "outputs": [
    {
     "data": {
      "text/plain": [
       "8.270429251254134"
      ]
     },
     "execution_count": 32,
     "metadata": {},
     "output_type": "execute_result"
    }
   ],
   "source": [
    "# Calculating Bond std\n",
    "Bond_std = np.sqrt(Bond_Variance)\n",
    "Bond_std"
   ]
  },
  {
   "cell_type": "code",
   "execution_count": 20,
   "metadata": {},
   "outputs": [
    {
     "name": "stdout",
     "output_type": "stream",
     "text": [
      "(4, 2)\n"
     ]
    },
    {
     "data": {
      "text/html": [
       "<div>\n",
       "<style scoped>\n",
       "    .dataframe tbody tr th:only-of-type {\n",
       "        vertical-align: middle;\n",
       "    }\n",
       "\n",
       "    .dataframe tbody tr th {\n",
       "        vertical-align: top;\n",
       "    }\n",
       "\n",
       "    .dataframe thead th {\n",
       "        text-align: right;\n",
       "    }\n",
       "</style>\n",
       "<table border=\"1\" class=\"dataframe\">\n",
       "  <thead>\n",
       "    <tr style=\"text-align: right;\">\n",
       "      <th></th>\n",
       "      <th>Scenario</th>\n",
       "      <th>Probability</th>\n",
       "    </tr>\n",
       "  </thead>\n",
       "  <tbody>\n",
       "    <tr>\n",
       "      <th>0</th>\n",
       "      <td>Severe recession</td>\n",
       "      <td>0.05</td>\n",
       "    </tr>\n",
       "    <tr>\n",
       "      <th>1</th>\n",
       "      <td>Mild recession</td>\n",
       "      <td>0.25</td>\n",
       "    </tr>\n",
       "    <tr>\n",
       "      <th>2</th>\n",
       "      <td>Normal growth</td>\n",
       "      <td>0.40</td>\n",
       "    </tr>\n",
       "    <tr>\n",
       "      <th>3</th>\n",
       "      <td>Boom</td>\n",
       "      <td>0.30</td>\n",
       "    </tr>\n",
       "  </tbody>\n",
       "</table>\n",
       "</div>"
      ],
      "text/plain": [
       "           Scenario  Probability\n",
       "0  Severe recession         0.05\n",
       "1    Mild recession         0.25\n",
       "2     Normal growth         0.40\n",
       "3              Boom         0.30"
      ]
     },
     "execution_count": 20,
     "metadata": {},
     "output_type": "execute_result"
    }
   ],
   "source": [
    "# Portfolio invested 40% in stock and 60% in bond fund\n",
    "portfolio_data = {'Scenario': ['Severe recession', 'Mild recession', 'Normal growth', 'Boom'],\n",
    "                  'Probability': [0.05, 0.25, 0.40, 0.30]}\n",
    "\n",
    "portfolio_data = pd.DataFrame(portfolio_data)\n",
    "print(portfolio_data.shape)\n",
    "portfolio_data.head()"
   ]
  },
  {
   "cell_type": "code",
   "execution_count": 22,
   "metadata": {},
   "outputs": [
    {
     "name": "stdout",
     "output_type": "stream",
     "text": [
      "(4, 3)\n"
     ]
    },
    {
     "data": {
      "text/html": [
       "<div>\n",
       "<style scoped>\n",
       "    .dataframe tbody tr th:only-of-type {\n",
       "        vertical-align: middle;\n",
       "    }\n",
       "\n",
       "    .dataframe tbody tr th {\n",
       "        vertical-align: top;\n",
       "    }\n",
       "\n",
       "    .dataframe thead th {\n",
       "        text-align: right;\n",
       "    }\n",
       "</style>\n",
       "<table border=\"1\" class=\"dataframe\">\n",
       "  <thead>\n",
       "    <tr style=\"text-align: right;\">\n",
       "      <th></th>\n",
       "      <th>Scenario</th>\n",
       "      <th>Probability</th>\n",
       "      <th>Rate of Return</th>\n",
       "    </tr>\n",
       "  </thead>\n",
       "  <tbody>\n",
       "    <tr>\n",
       "      <th>0</th>\n",
       "      <td>Severe recession</td>\n",
       "      <td>0.05</td>\n",
       "      <td>-20.2</td>\n",
       "    </tr>\n",
       "    <tr>\n",
       "      <th>1</th>\n",
       "      <td>Mild recession</td>\n",
       "      <td>0.25</td>\n",
       "      <td>4.6</td>\n",
       "    </tr>\n",
       "    <tr>\n",
       "      <th>2</th>\n",
       "      <td>Normal growth</td>\n",
       "      <td>0.40</td>\n",
       "      <td>10.4</td>\n",
       "    </tr>\n",
       "    <tr>\n",
       "      <th>3</th>\n",
       "      <td>Boom</td>\n",
       "      <td>0.30</td>\n",
       "      <td>9.0</td>\n",
       "    </tr>\n",
       "  </tbody>\n",
       "</table>\n",
       "</div>"
      ],
      "text/plain": [
       "           Scenario  Probability  Rate of Return\n",
       "0  Severe recession         0.05           -20.2\n",
       "1    Mild recession         0.25             4.6\n",
       "2     Normal growth         0.40            10.4\n",
       "3              Boom         0.30             9.0"
      ]
     },
     "execution_count": 22,
     "metadata": {},
     "output_type": "execute_result"
    }
   ],
   "source": [
    "# Finding Rate of Return\n",
    "portfolio_data['Rate of Return'] = (0.4 * data['Stock Rate of Return']) + (0.6 * data['Bond Rate of Return'])\n",
    "print(portfolio_data.shape)\n",
    "portfolio_data.head()"
   ]
  },
  {
   "cell_type": "code",
   "execution_count": 23,
   "metadata": {},
   "outputs": [
    {
     "name": "stdout",
     "output_type": "stream",
     "text": [
      "(4, 4)\n"
     ]
    },
    {
     "data": {
      "text/html": [
       "<div>\n",
       "<style scoped>\n",
       "    .dataframe tbody tr th:only-of-type {\n",
       "        vertical-align: middle;\n",
       "    }\n",
       "\n",
       "    .dataframe tbody tr th {\n",
       "        vertical-align: top;\n",
       "    }\n",
       "\n",
       "    .dataframe thead th {\n",
       "        text-align: right;\n",
       "    }\n",
       "</style>\n",
       "<table border=\"1\" class=\"dataframe\">\n",
       "  <thead>\n",
       "    <tr style=\"text-align: right;\">\n",
       "      <th></th>\n",
       "      <th>Scenario</th>\n",
       "      <th>Probability</th>\n",
       "      <th>Rate of Return</th>\n",
       "      <th>ProdotReturn</th>\n",
       "    </tr>\n",
       "  </thead>\n",
       "  <tbody>\n",
       "    <tr>\n",
       "      <th>0</th>\n",
       "      <td>Severe recession</td>\n",
       "      <td>0.05</td>\n",
       "      <td>-20.2</td>\n",
       "      <td>-1.01</td>\n",
       "    </tr>\n",
       "    <tr>\n",
       "      <th>1</th>\n",
       "      <td>Mild recession</td>\n",
       "      <td>0.25</td>\n",
       "      <td>4.6</td>\n",
       "      <td>1.15</td>\n",
       "    </tr>\n",
       "    <tr>\n",
       "      <th>2</th>\n",
       "      <td>Normal growth</td>\n",
       "      <td>0.40</td>\n",
       "      <td>10.4</td>\n",
       "      <td>4.16</td>\n",
       "    </tr>\n",
       "    <tr>\n",
       "      <th>3</th>\n",
       "      <td>Boom</td>\n",
       "      <td>0.30</td>\n",
       "      <td>9.0</td>\n",
       "      <td>2.70</td>\n",
       "    </tr>\n",
       "  </tbody>\n",
       "</table>\n",
       "</div>"
      ],
      "text/plain": [
       "           Scenario  Probability  Rate of Return  ProdotReturn\n",
       "0  Severe recession         0.05           -20.2         -1.01\n",
       "1    Mild recession         0.25             4.6          1.15\n",
       "2     Normal growth         0.40            10.4          4.16\n",
       "3              Boom         0.30             9.0          2.70"
      ]
     },
     "execution_count": 23,
     "metadata": {},
     "output_type": "execute_result"
    }
   ],
   "source": [
    "# Probability X Rate of Return\n",
    "portfolio_data['ProdotReturn'] = portfolio_data['Probability'] * portfolio_data['Rate of Return']\n",
    "print(portfolio_data.shape)\n",
    "portfolio_data.head()"
   ]
  },
  {
   "cell_type": "code",
   "execution_count": 25,
   "metadata": {},
   "outputs": [
    {
     "data": {
      "text/plain": [
       "7.0"
      ]
     },
     "execution_count": 25,
     "metadata": {},
     "output_type": "execute_result"
    }
   ],
   "source": [
    "# portfolio_expected_return\n",
    "portfolio_expected_return = portfolio_data['ProdotReturn'].sum()\n",
    "portfolio_expected_return"
   ]
  },
  {
   "cell_type": "code",
   "execution_count": 26,
   "metadata": {},
   "outputs": [
    {
     "name": "stdout",
     "output_type": "stream",
     "text": [
      "(4, 5)\n"
     ]
    },
    {
     "data": {
      "text/html": [
       "<div>\n",
       "<style scoped>\n",
       "    .dataframe tbody tr th:only-of-type {\n",
       "        vertical-align: middle;\n",
       "    }\n",
       "\n",
       "    .dataframe tbody tr th {\n",
       "        vertical-align: top;\n",
       "    }\n",
       "\n",
       "    .dataframe thead th {\n",
       "        text-align: right;\n",
       "    }\n",
       "</style>\n",
       "<table border=\"1\" class=\"dataframe\">\n",
       "  <thead>\n",
       "    <tr style=\"text-align: right;\">\n",
       "      <th></th>\n",
       "      <th>Scenario</th>\n",
       "      <th>Probability</th>\n",
       "      <th>Rate of Return</th>\n",
       "      <th>ProdotReturn</th>\n",
       "      <th>Squared Deviation</th>\n",
       "    </tr>\n",
       "  </thead>\n",
       "  <tbody>\n",
       "    <tr>\n",
       "      <th>0</th>\n",
       "      <td>Severe recession</td>\n",
       "      <td>0.05</td>\n",
       "      <td>-20.2</td>\n",
       "      <td>-1.01</td>\n",
       "      <td>739.84</td>\n",
       "    </tr>\n",
       "    <tr>\n",
       "      <th>1</th>\n",
       "      <td>Mild recession</td>\n",
       "      <td>0.25</td>\n",
       "      <td>4.6</td>\n",
       "      <td>1.15</td>\n",
       "      <td>5.76</td>\n",
       "    </tr>\n",
       "    <tr>\n",
       "      <th>2</th>\n",
       "      <td>Normal growth</td>\n",
       "      <td>0.40</td>\n",
       "      <td>10.4</td>\n",
       "      <td>4.16</td>\n",
       "      <td>11.56</td>\n",
       "    </tr>\n",
       "    <tr>\n",
       "      <th>3</th>\n",
       "      <td>Boom</td>\n",
       "      <td>0.30</td>\n",
       "      <td>9.0</td>\n",
       "      <td>2.70</td>\n",
       "      <td>4.00</td>\n",
       "    </tr>\n",
       "  </tbody>\n",
       "</table>\n",
       "</div>"
      ],
      "text/plain": [
       "           Scenario  Probability  Rate of Return  ProdotReturn  \\\n",
       "0  Severe recession         0.05           -20.2         -1.01   \n",
       "1    Mild recession         0.25             4.6          1.15   \n",
       "2     Normal growth         0.40            10.4          4.16   \n",
       "3              Boom         0.30             9.0          2.70   \n",
       "\n",
       "   Squared Deviation  \n",
       "0             739.84  \n",
       "1               5.76  \n",
       "2              11.56  \n",
       "3               4.00  "
      ]
     },
     "execution_count": 26,
     "metadata": {},
     "output_type": "execute_result"
    }
   ],
   "source": [
    "# Calculating Squared Deviation\n",
    "portfolio_data['Squared Deviation'] = (portfolio_data['Rate of Return'] - portfolio_expected_return) ** 2\n",
    "print(portfolio_data.shape)\n",
    "portfolio_data.head()"
   ]
  },
  {
   "cell_type": "code",
   "execution_count": 27,
   "metadata": {},
   "outputs": [
    {
     "data": {
      "text/plain": [
       "44.256"
      ]
     },
     "execution_count": 27,
     "metadata": {},
     "output_type": "execute_result"
    }
   ],
   "source": [
    "# Calculating Portfolio Variance\n",
    "portfolio_variance = (portfolio_data['Probability'] * portfolio_data['Squared Deviation']).sum()\n",
    "portfolio_variance"
   ]
  },
  {
   "cell_type": "code",
   "execution_count": 28,
   "metadata": {},
   "outputs": [
    {
     "data": {
      "text/plain": [
       "6.652518320155157"
      ]
     },
     "execution_count": 28,
     "metadata": {},
     "output_type": "execute_result"
    }
   ],
   "source": [
    "# Calculating Portfolio Std\n",
    "portfolio_std = np.sqrt(portfolio_variance)\n",
    "portfolio_std"
   ]
  },
  {
   "cell_type": "code",
   "execution_count": 29,
   "metadata": {},
   "outputs": [
    {
     "name": "stdout",
     "output_type": "stream",
     "text": [
      "(4, 4)\n"
     ]
    },
    {
     "data": {
      "text/html": [
       "<div>\n",
       "<style scoped>\n",
       "    .dataframe tbody tr th:only-of-type {\n",
       "        vertical-align: middle;\n",
       "    }\n",
       "\n",
       "    .dataframe tbody tr th {\n",
       "        vertical-align: top;\n",
       "    }\n",
       "\n",
       "    .dataframe thead th {\n",
       "        text-align: right;\n",
       "    }\n",
       "</style>\n",
       "<table border=\"1\" class=\"dataframe\">\n",
       "  <thead>\n",
       "    <tr style=\"text-align: right;\">\n",
       "      <th></th>\n",
       "      <th>Scenario</th>\n",
       "      <th>Probability</th>\n",
       "      <th>Stock Fund</th>\n",
       "      <th>Bond Fund</th>\n",
       "    </tr>\n",
       "  </thead>\n",
       "  <tbody>\n",
       "    <tr>\n",
       "      <th>0</th>\n",
       "      <td>Severe recession</td>\n",
       "      <td>0.05</td>\n",
       "      <td>-47</td>\n",
       "      <td>-14</td>\n",
       "    </tr>\n",
       "    <tr>\n",
       "      <th>1</th>\n",
       "      <td>Mild recession</td>\n",
       "      <td>0.25</td>\n",
       "      <td>-21</td>\n",
       "      <td>10</td>\n",
       "    </tr>\n",
       "    <tr>\n",
       "      <th>2</th>\n",
       "      <td>Normal growth</td>\n",
       "      <td>0.40</td>\n",
       "      <td>4</td>\n",
       "      <td>3</td>\n",
       "    </tr>\n",
       "    <tr>\n",
       "      <th>3</th>\n",
       "      <td>Boom</td>\n",
       "      <td>0.30</td>\n",
       "      <td>20</td>\n",
       "      <td>-10</td>\n",
       "    </tr>\n",
       "  </tbody>\n",
       "</table>\n",
       "</div>"
      ],
      "text/plain": [
       "           Scenario  Probability  Stock Fund  Bond Fund\n",
       "0  Severe recession         0.05         -47        -14\n",
       "1    Mild recession         0.25         -21         10\n",
       "2     Normal growth         0.40           4          3\n",
       "3              Boom         0.30          20        -10"
      ]
     },
     "execution_count": 29,
     "metadata": {},
     "output_type": "execute_result"
    }
   ],
   "source": [
    "# Build dataset for covariance\n",
    "covariance_data = {'Scenario': ['Severe recession', 'Mild recession', 'Normal growth', 'Boom'],\n",
    "                   'Probability': [0.05, 0.25, 0.40, 0.30],\n",
    "                   'Stock Fund': [-47, -21, 4, 20],\n",
    "                   'Bond Fund': [-14, 10, 3, -10]}\n",
    "\n",
    "covariance_data = pd.DataFrame(covariance_data)\n",
    "print(covariance_data.shape)\n",
    "covariance_data.head()"
   ]
  },
  {
   "cell_type": "code",
   "execution_count": 30,
   "metadata": {},
   "outputs": [
    {
     "name": "stdout",
     "output_type": "stream",
     "text": [
      "(4, 5)\n"
     ]
    },
    {
     "data": {
      "text/html": [
       "<div>\n",
       "<style scoped>\n",
       "    .dataframe tbody tr th:only-of-type {\n",
       "        vertical-align: middle;\n",
       "    }\n",
       "\n",
       "    .dataframe tbody tr th {\n",
       "        vertical-align: top;\n",
       "    }\n",
       "\n",
       "    .dataframe thead th {\n",
       "        text-align: right;\n",
       "    }\n",
       "</style>\n",
       "<table border=\"1\" class=\"dataframe\">\n",
       "  <thead>\n",
       "    <tr style=\"text-align: right;\">\n",
       "      <th></th>\n",
       "      <th>Scenario</th>\n",
       "      <th>Probability</th>\n",
       "      <th>Stock Fund</th>\n",
       "      <th>Bond Fund</th>\n",
       "      <th>stockdotbond</th>\n",
       "    </tr>\n",
       "  </thead>\n",
       "  <tbody>\n",
       "    <tr>\n",
       "      <th>0</th>\n",
       "      <td>Severe recession</td>\n",
       "      <td>0.05</td>\n",
       "      <td>-47</td>\n",
       "      <td>-14</td>\n",
       "      <td>658</td>\n",
       "    </tr>\n",
       "    <tr>\n",
       "      <th>1</th>\n",
       "      <td>Mild recession</td>\n",
       "      <td>0.25</td>\n",
       "      <td>-21</td>\n",
       "      <td>10</td>\n",
       "      <td>-210</td>\n",
       "    </tr>\n",
       "    <tr>\n",
       "      <th>2</th>\n",
       "      <td>Normal growth</td>\n",
       "      <td>0.40</td>\n",
       "      <td>4</td>\n",
       "      <td>3</td>\n",
       "      <td>12</td>\n",
       "    </tr>\n",
       "    <tr>\n",
       "      <th>3</th>\n",
       "      <td>Boom</td>\n",
       "      <td>0.30</td>\n",
       "      <td>20</td>\n",
       "      <td>-10</td>\n",
       "      <td>-200</td>\n",
       "    </tr>\n",
       "  </tbody>\n",
       "</table>\n",
       "</div>"
      ],
      "text/plain": [
       "           Scenario  Probability  Stock Fund  Bond Fund  stockdotbond\n",
       "0  Severe recession         0.05         -47        -14           658\n",
       "1    Mild recession         0.25         -21         10          -210\n",
       "2     Normal growth         0.40           4          3            12\n",
       "3              Boom         0.30          20        -10          -200"
      ]
     },
     "execution_count": 30,
     "metadata": {},
     "output_type": "execute_result"
    }
   ],
   "source": [
    "# Stock Fund x Bond Fund\n",
    "covariance_data['stockdotbond'] = covariance_data['Stock Fund'] * covariance_data['Bond Fund']\n",
    "print(covariance_data.shape)\n",
    "covariance_data.head()"
   ]
  },
  {
   "cell_type": "code",
   "execution_count": 31,
   "metadata": {},
   "outputs": [
    {
     "data": {
      "text/plain": [
       "-74.8"
      ]
     },
     "execution_count": 31,
     "metadata": {},
     "output_type": "execute_result"
    }
   ],
   "source": [
    "# Calculating Covariance\n",
    "COV = (covariance_data['Probability'] * covariance_data['stockdotbond']).sum()\n",
    "COV"
   ]
  },
  {
   "cell_type": "code",
   "execution_count": 33,
   "metadata": {},
   "outputs": [
    {
     "data": {
      "text/plain": [
       "-0.48545193908452344"
      ]
     },
     "execution_count": 33,
     "metadata": {},
     "output_type": "execute_result"
    }
   ],
   "source": [
    "# Calculationg Correlation\n",
    "Cor = COV / (Stock_std * Bond_std)\n",
    "Cor"
   ]
  },
  {
   "cell_type": "code",
   "execution_count": 37,
   "metadata": {},
   "outputs": [
    {
     "data": {
      "text/plain": [
       "62.1145"
      ]
     },
     "execution_count": 37,
     "metadata": {},
     "output_type": "execute_result"
    }
   ],
   "source": [
    "# Portfolio Variance Equation\n",
    "bonds_rate = 0.85\n",
    "stocks_rate = 0.15\n",
    "\n",
    "bonds_std = 8\n",
    "stocks_std = 19\n",
    "\n",
    "corr = 0.2\n",
    "\n",
    "Portfolio_Variance = (bonds_rate*bonds_std)**2 + (stocks_rate*stocks_std)**2 + 2*(bonds_rate*bonds_std)*(stocks_rate*stocks_std)*corr\n",
    "Portfolio_Variance"
   ]
  },
  {
   "cell_type": "code",
   "execution_count": 38,
   "metadata": {},
   "outputs": [
    {
     "data": {
      "text/plain": [
       "7.8812752775169574"
      ]
     },
     "execution_count": 38,
     "metadata": {},
     "output_type": "execute_result"
    }
   ],
   "source": [
    "# Portfolio Standard Deviation\n",
    "Portfolio_Deviation = np.sqrt(Portfolio_Variance)\n",
    "Portfolio_Deviation"
   ]
  }
 ],
 "metadata": {
  "kernelspec": {
   "display_name": "Python 3",
   "language": "python",
   "name": "python3"
  },
  "language_info": {
   "codemirror_mode": {
    "name": "ipython",
    "version": 3
   },
   "file_extension": ".py",
   "mimetype": "text/x-python",
   "name": "python",
   "nbconvert_exporter": "python",
   "pygments_lexer": "ipython3",
   "version": "3.7.3"
  }
 },
 "nbformat": 4,
 "nbformat_minor": 2
}
