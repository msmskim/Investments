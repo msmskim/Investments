{
 "cells": [
  {
   "cell_type": "code",
   "execution_count": 1,
   "metadata": {},
   "outputs": [
    {
     "name": "stdout",
     "output_type": "stream",
     "text": [
      "(4, 3)\n"
     ]
    },
    {
     "data": {
      "text/html": [
       "<div>\n",
       "<style scoped>\n",
       "    .dataframe tbody tr th:only-of-type {\n",
       "        vertical-align: middle;\n",
       "    }\n",
       "\n",
       "    .dataframe tbody tr th {\n",
       "        vertical-align: top;\n",
       "    }\n",
       "\n",
       "    .dataframe thead th {\n",
       "        text-align: right;\n",
       "    }\n",
       "</style>\n",
       "<table border=\"1\" class=\"dataframe\">\n",
       "  <thead>\n",
       "    <tr style=\"text-align: right;\">\n",
       "      <th></th>\n",
       "      <th>senario</th>\n",
       "      <th>Probability</th>\n",
       "      <th>HPR</th>\n",
       "    </tr>\n",
       "  </thead>\n",
       "  <tbody>\n",
       "    <tr>\n",
       "      <th>0</th>\n",
       "      <td>severe recession</td>\n",
       "      <td>0.05</td>\n",
       "      <td>-37</td>\n",
       "    </tr>\n",
       "    <tr>\n",
       "      <th>1</th>\n",
       "      <td>Mild recession</td>\n",
       "      <td>0.25</td>\n",
       "      <td>-11</td>\n",
       "    </tr>\n",
       "    <tr>\n",
       "      <th>2</th>\n",
       "      <td>Normal growth</td>\n",
       "      <td>0.40</td>\n",
       "      <td>14</td>\n",
       "    </tr>\n",
       "    <tr>\n",
       "      <th>3</th>\n",
       "      <td>Boom</td>\n",
       "      <td>0.30</td>\n",
       "      <td>30</td>\n",
       "    </tr>\n",
       "  </tbody>\n",
       "</table>\n",
       "</div>"
      ],
      "text/plain": [
       "            senario  Probability  HPR\n",
       "0  severe recession         0.05  -37\n",
       "1    Mild recession         0.25  -11\n",
       "2     Normal growth         0.40   14\n",
       "3              Boom         0.30   30"
      ]
     },
     "execution_count": 1,
     "metadata": {},
     "output_type": "execute_result"
    }
   ],
   "source": [
    "import math\n",
    "import pandas as pd\n",
    "import numpy as np\n",
    "\n",
    "data = {'senario': ['severe recession', 'Mild recession', 'Normal growth', 'Boom'],\n",
    "        'Probability': [0.05, 0.25, 0.40, 0.30],\n",
    "        'HPR': [-37, -11, 14, 30]}\n",
    "\n",
    "data = pd.DataFrame(data)\n",
    "print(data.shape)\n",
    "data.head()"
   ]
  },
  {
   "cell_type": "code",
   "execution_count": 3,
   "metadata": {},
   "outputs": [
    {
     "name": "stdout",
     "output_type": "stream",
     "text": [
      "(4, 4)\n"
     ]
    },
    {
     "data": {
      "text/html": [
       "<div>\n",
       "<style scoped>\n",
       "    .dataframe tbody tr th:only-of-type {\n",
       "        vertical-align: middle;\n",
       "    }\n",
       "\n",
       "    .dataframe tbody tr th {\n",
       "        vertical-align: top;\n",
       "    }\n",
       "\n",
       "    .dataframe thead th {\n",
       "        text-align: right;\n",
       "    }\n",
       "</style>\n",
       "<table border=\"1\" class=\"dataframe\">\n",
       "  <thead>\n",
       "    <tr style=\"text-align: right;\">\n",
       "      <th></th>\n",
       "      <th>senario</th>\n",
       "      <th>Probability</th>\n",
       "      <th>HPR</th>\n",
       "      <th>product</th>\n",
       "    </tr>\n",
       "  </thead>\n",
       "  <tbody>\n",
       "    <tr>\n",
       "      <th>0</th>\n",
       "      <td>severe recession</td>\n",
       "      <td>0.05</td>\n",
       "      <td>-37</td>\n",
       "      <td>-1.85</td>\n",
       "    </tr>\n",
       "    <tr>\n",
       "      <th>1</th>\n",
       "      <td>Mild recession</td>\n",
       "      <td>0.25</td>\n",
       "      <td>-11</td>\n",
       "      <td>-2.75</td>\n",
       "    </tr>\n",
       "    <tr>\n",
       "      <th>2</th>\n",
       "      <td>Normal growth</td>\n",
       "      <td>0.40</td>\n",
       "      <td>14</td>\n",
       "      <td>5.60</td>\n",
       "    </tr>\n",
       "    <tr>\n",
       "      <th>3</th>\n",
       "      <td>Boom</td>\n",
       "      <td>0.30</td>\n",
       "      <td>30</td>\n",
       "      <td>9.00</td>\n",
       "    </tr>\n",
       "  </tbody>\n",
       "</table>\n",
       "</div>"
      ],
      "text/plain": [
       "            senario  Probability  HPR  product\n",
       "0  severe recession         0.05  -37    -1.85\n",
       "1    Mild recession         0.25  -11    -2.75\n",
       "2     Normal growth         0.40   14     5.60\n",
       "3              Boom         0.30   30     9.00"
      ]
     },
     "execution_count": 3,
     "metadata": {},
     "output_type": "execute_result"
    }
   ],
   "source": [
    "# product Probabilty and HPR\n",
    "data['product'] = data['Probability'] * data['HPR']\n",
    "print(data.shape)\n",
    "data.head()"
   ]
  },
  {
   "cell_type": "code",
   "execution_count": 8,
   "metadata": {},
   "outputs": [
    {
     "data": {
      "text/plain": [
       "10.0"
      ]
     },
     "execution_count": 8,
     "metadata": {},
     "output_type": "execute_result"
    }
   ],
   "source": [
    "# expected return\n",
    "expected_return = data['product'].sum()\n",
    "expected_return"
   ]
  },
  {
   "cell_type": "code",
   "execution_count": 9,
   "metadata": {},
   "outputs": [
    {
     "name": "stdout",
     "output_type": "stream",
     "text": [
      "(4, 5)\n"
     ]
    },
    {
     "data": {
      "text/html": [
       "<div>\n",
       "<style scoped>\n",
       "    .dataframe tbody tr th:only-of-type {\n",
       "        vertical-align: middle;\n",
       "    }\n",
       "\n",
       "    .dataframe tbody tr th {\n",
       "        vertical-align: top;\n",
       "    }\n",
       "\n",
       "    .dataframe thead th {\n",
       "        text-align: right;\n",
       "    }\n",
       "</style>\n",
       "<table border=\"1\" class=\"dataframe\">\n",
       "  <thead>\n",
       "    <tr style=\"text-align: right;\">\n",
       "      <th></th>\n",
       "      <th>senario</th>\n",
       "      <th>Probability</th>\n",
       "      <th>HPR</th>\n",
       "      <th>product</th>\n",
       "      <th>Deviation from expected return</th>\n",
       "    </tr>\n",
       "  </thead>\n",
       "  <tbody>\n",
       "    <tr>\n",
       "      <th>0</th>\n",
       "      <td>severe recession</td>\n",
       "      <td>0.05</td>\n",
       "      <td>-37</td>\n",
       "      <td>-1.85</td>\n",
       "      <td>2209.0</td>\n",
       "    </tr>\n",
       "    <tr>\n",
       "      <th>1</th>\n",
       "      <td>Mild recession</td>\n",
       "      <td>0.25</td>\n",
       "      <td>-11</td>\n",
       "      <td>-2.75</td>\n",
       "      <td>441.0</td>\n",
       "    </tr>\n",
       "    <tr>\n",
       "      <th>2</th>\n",
       "      <td>Normal growth</td>\n",
       "      <td>0.40</td>\n",
       "      <td>14</td>\n",
       "      <td>5.60</td>\n",
       "      <td>16.0</td>\n",
       "    </tr>\n",
       "    <tr>\n",
       "      <th>3</th>\n",
       "      <td>Boom</td>\n",
       "      <td>0.30</td>\n",
       "      <td>30</td>\n",
       "      <td>9.00</td>\n",
       "      <td>400.0</td>\n",
       "    </tr>\n",
       "  </tbody>\n",
       "</table>\n",
       "</div>"
      ],
      "text/plain": [
       "            senario  Probability  HPR  product  Deviation from expected return\n",
       "0  severe recession         0.05  -37    -1.85                          2209.0\n",
       "1    Mild recession         0.25  -11    -2.75                           441.0\n",
       "2     Normal growth         0.40   14     5.60                            16.0\n",
       "3              Boom         0.30   30     9.00                           400.0"
      ]
     },
     "execution_count": 9,
     "metadata": {},
     "output_type": "execute_result"
    }
   ],
   "source": [
    "# Calculating squared deviation' to find a variance\n",
    "data['Deviation from expected return'] = (data['HPR'] - expected_return) ** 2\n",
    "print(data.shape)\n",
    "data.head()"
   ]
  },
  {
   "cell_type": "code",
   "execution_count": 11,
   "metadata": {},
   "outputs": [
    {
     "name": "stdout",
     "output_type": "stream",
     "text": [
      "(4, 6)\n"
     ]
    },
    {
     "data": {
      "text/html": [
       "<div>\n",
       "<style scoped>\n",
       "    .dataframe tbody tr th:only-of-type {\n",
       "        vertical-align: middle;\n",
       "    }\n",
       "\n",
       "    .dataframe tbody tr th {\n",
       "        vertical-align: top;\n",
       "    }\n",
       "\n",
       "    .dataframe thead th {\n",
       "        text-align: right;\n",
       "    }\n",
       "</style>\n",
       "<table border=\"1\" class=\"dataframe\">\n",
       "  <thead>\n",
       "    <tr style=\"text-align: right;\">\n",
       "      <th></th>\n",
       "      <th>senario</th>\n",
       "      <th>Probability</th>\n",
       "      <th>HPR</th>\n",
       "      <th>product</th>\n",
       "      <th>Deviation from expected return</th>\n",
       "      <th>pdotd</th>\n",
       "    </tr>\n",
       "  </thead>\n",
       "  <tbody>\n",
       "    <tr>\n",
       "      <th>0</th>\n",
       "      <td>severe recession</td>\n",
       "      <td>0.05</td>\n",
       "      <td>-37</td>\n",
       "      <td>-1.85</td>\n",
       "      <td>2209.0</td>\n",
       "      <td>110.45</td>\n",
       "    </tr>\n",
       "    <tr>\n",
       "      <th>1</th>\n",
       "      <td>Mild recession</td>\n",
       "      <td>0.25</td>\n",
       "      <td>-11</td>\n",
       "      <td>-2.75</td>\n",
       "      <td>441.0</td>\n",
       "      <td>110.25</td>\n",
       "    </tr>\n",
       "    <tr>\n",
       "      <th>2</th>\n",
       "      <td>Normal growth</td>\n",
       "      <td>0.40</td>\n",
       "      <td>14</td>\n",
       "      <td>5.60</td>\n",
       "      <td>16.0</td>\n",
       "      <td>6.40</td>\n",
       "    </tr>\n",
       "    <tr>\n",
       "      <th>3</th>\n",
       "      <td>Boom</td>\n",
       "      <td>0.30</td>\n",
       "      <td>30</td>\n",
       "      <td>9.00</td>\n",
       "      <td>400.0</td>\n",
       "      <td>120.00</td>\n",
       "    </tr>\n",
       "  </tbody>\n",
       "</table>\n",
       "</div>"
      ],
      "text/plain": [
       "            senario  Probability  HPR  product  \\\n",
       "0  severe recession         0.05  -37    -1.85   \n",
       "1    Mild recession         0.25  -11    -2.75   \n",
       "2     Normal growth         0.40   14     5.60   \n",
       "3              Boom         0.30   30     9.00   \n",
       "\n",
       "   Deviation from expected return   pdotd  \n",
       "0                          2209.0  110.45  \n",
       "1                           441.0  110.25  \n",
       "2                            16.0    6.40  \n",
       "3                           400.0  120.00  "
      ]
     },
     "execution_count": 11,
     "metadata": {},
     "output_type": "execute_result"
    }
   ],
   "source": [
    "# Calculating the Probability * Deviation from expected return\n",
    "data['pdotd'] = data['Probability'] * data['Deviation from expected return']\n",
    "print(data.shape)\n",
    "data.head()"
   ]
  },
  {
   "cell_type": "code",
   "execution_count": 13,
   "metadata": {},
   "outputs": [
    {
     "data": {
      "text/plain": [
       "347.1"
      ]
     },
     "execution_count": 13,
     "metadata": {},
     "output_type": "execute_result"
    }
   ],
   "source": [
    "# Calculating a variance\n",
    "var = data['pdotd'].sum()\n",
    "var"
   ]
  },
  {
   "cell_type": "code",
   "execution_count": 14,
   "metadata": {},
   "outputs": [
    {
     "data": {
      "text/plain": [
       "18.630619957478604"
      ]
     },
     "execution_count": 14,
     "metadata": {},
     "output_type": "execute_result"
    }
   ],
   "source": [
    "# Calculating a standard deviation\n",
    "std = np.sqrt(var)\n",
    "std"
   ]
  },
  {
   "cell_type": "code",
   "execution_count": 15,
   "metadata": {},
   "outputs": [
    {
     "name": "stdout",
     "output_type": "stream",
     "text": [
      "(4, 7)\n"
     ]
    },
    {
     "data": {
      "text/html": [
       "<div>\n",
       "<style scoped>\n",
       "    .dataframe tbody tr th:only-of-type {\n",
       "        vertical-align: middle;\n",
       "    }\n",
       "\n",
       "    .dataframe tbody tr th {\n",
       "        vertical-align: top;\n",
       "    }\n",
       "\n",
       "    .dataframe thead th {\n",
       "        text-align: right;\n",
       "    }\n",
       "</style>\n",
       "<table border=\"1\" class=\"dataframe\">\n",
       "  <thead>\n",
       "    <tr style=\"text-align: right;\">\n",
       "      <th></th>\n",
       "      <th>senario</th>\n",
       "      <th>Probability</th>\n",
       "      <th>HPR</th>\n",
       "      <th>product</th>\n",
       "      <th>Deviation from expected return</th>\n",
       "      <th>pdotd</th>\n",
       "      <th>standardization</th>\n",
       "    </tr>\n",
       "  </thead>\n",
       "  <tbody>\n",
       "    <tr>\n",
       "      <th>0</th>\n",
       "      <td>severe recession</td>\n",
       "      <td>0.05</td>\n",
       "      <td>-37</td>\n",
       "      <td>-1.85</td>\n",
       "      <td>2209.0</td>\n",
       "      <td>110.45</td>\n",
       "      <td>-2.522729</td>\n",
       "    </tr>\n",
       "    <tr>\n",
       "      <th>1</th>\n",
       "      <td>Mild recession</td>\n",
       "      <td>0.25</td>\n",
       "      <td>-11</td>\n",
       "      <td>-2.75</td>\n",
       "      <td>441.0</td>\n",
       "      <td>110.25</td>\n",
       "      <td>-1.127177</td>\n",
       "    </tr>\n",
       "    <tr>\n",
       "      <th>2</th>\n",
       "      <td>Normal growth</td>\n",
       "      <td>0.40</td>\n",
       "      <td>14</td>\n",
       "      <td>5.60</td>\n",
       "      <td>16.0</td>\n",
       "      <td>6.40</td>\n",
       "      <td>0.214700</td>\n",
       "    </tr>\n",
       "    <tr>\n",
       "      <th>3</th>\n",
       "      <td>Boom</td>\n",
       "      <td>0.30</td>\n",
       "      <td>30</td>\n",
       "      <td>9.00</td>\n",
       "      <td>400.0</td>\n",
       "      <td>120.00</td>\n",
       "      <td>1.073502</td>\n",
       "    </tr>\n",
       "  </tbody>\n",
       "</table>\n",
       "</div>"
      ],
      "text/plain": [
       "            senario  Probability  HPR  product  \\\n",
       "0  severe recession         0.05  -37    -1.85   \n",
       "1    Mild recession         0.25  -11    -2.75   \n",
       "2     Normal growth         0.40   14     5.60   \n",
       "3              Boom         0.30   30     9.00   \n",
       "\n",
       "   Deviation from expected return   pdotd  standardization  \n",
       "0                          2209.0  110.45        -2.522729  \n",
       "1                           441.0  110.25        -1.127177  \n",
       "2                            16.0    6.40         0.214700  \n",
       "3                           400.0  120.00         1.073502  "
      ]
     },
     "execution_count": 15,
     "metadata": {},
     "output_type": "execute_result"
    }
   ],
   "source": [
    "# Standardization\n",
    "data['standardization'] = (data['HPR'] - expected_return) / std\n",
    "print(data.shape)\n",
    "data.head()"
   ]
  },
  {
   "cell_type": "code",
   "execution_count": 16,
   "metadata": {},
   "outputs": [
    {
     "data": {
      "text/plain": [
       "-20.64457523705868"
      ]
     },
     "execution_count": 16,
     "metadata": {},
     "output_type": "execute_result"
    }
   ],
   "source": [
    "# Calculating value at risk of 5%\n",
    "VaR = expected_return + (-1.64485 * std)\n",
    "VaR"
   ]
  },
  {
   "cell_type": "code",
   "execution_count": 27,
   "metadata": {},
   "outputs": [
    {
     "name": "stdout",
     "output_type": "stream",
     "text": [
      "(5, 4)\n"
     ]
    },
    {
     "data": {
      "text/html": [
       "<div>\n",
       "<style scoped>\n",
       "    .dataframe tbody tr th:only-of-type {\n",
       "        vertical-align: middle;\n",
       "    }\n",
       "\n",
       "    .dataframe tbody tr th {\n",
       "        vertical-align: top;\n",
       "    }\n",
       "\n",
       "    .dataframe thead th {\n",
       "        text-align: right;\n",
       "    }\n",
       "</style>\n",
       "<table border=\"1\" class=\"dataframe\">\n",
       "  <thead>\n",
       "    <tr style=\"text-align: right;\">\n",
       "      <th></th>\n",
       "      <th>Year</th>\n",
       "      <th>Rate of Return</th>\n",
       "      <th>Deviation from Average Return</th>\n",
       "      <th>Squared Deviation</th>\n",
       "    </tr>\n",
       "  </thead>\n",
       "  <tbody>\n",
       "    <tr>\n",
       "      <th>0</th>\n",
       "      <td>1</td>\n",
       "      <td>16.9</td>\n",
       "      <td>0.2</td>\n",
       "      <td>0.0</td>\n",
       "    </tr>\n",
       "    <tr>\n",
       "      <th>1</th>\n",
       "      <td>2</td>\n",
       "      <td>31.3</td>\n",
       "      <td>14.6</td>\n",
       "      <td>213.2</td>\n",
       "    </tr>\n",
       "    <tr>\n",
       "      <th>2</th>\n",
       "      <td>3</td>\n",
       "      <td>-3.2</td>\n",
       "      <td>-19.9</td>\n",
       "      <td>396.0</td>\n",
       "    </tr>\n",
       "    <tr>\n",
       "      <th>3</th>\n",
       "      <td>4</td>\n",
       "      <td>30.7</td>\n",
       "      <td>14.0</td>\n",
       "      <td>196.0</td>\n",
       "    </tr>\n",
       "    <tr>\n",
       "      <th>4</th>\n",
       "      <td>5</td>\n",
       "      <td>7.7</td>\n",
       "      <td>-9.0</td>\n",
       "      <td>81.0</td>\n",
       "    </tr>\n",
       "  </tbody>\n",
       "</table>\n",
       "</div>"
      ],
      "text/plain": [
       "   Year  Rate of Return  Deviation from Average Return  Squared Deviation\n",
       "0     1            16.9                            0.2                0.0\n",
       "1     2            31.3                           14.6              213.2\n",
       "2     3            -3.2                          -19.9              396.0\n",
       "3     4            30.7                           14.0              196.0\n",
       "4     5             7.7                           -9.0               81.0"
      ]
     },
     "execution_count": 27,
     "metadata": {},
     "output_type": "execute_result"
    }
   ],
   "source": [
    "# time series\n",
    "\n",
    "data2 = {'Year': [1, 2, 3, 4, 5],\n",
    "         'Rate of Return': [16.9, 31.3, -3.2, 30.7, 7.7],\n",
    "         'Deviation from Average Return': [0.2, 14.6, -19.9, 14.0, -9.0],\n",
    "         'Squared Deviation': [0.0, 213.2, 396.0, 196.0, 81.0]}\n",
    "\n",
    "data2 = pd.DataFrame(data2)\n",
    "print(data2.shape)\n",
    "data2.head()"
   ]
  },
  {
   "cell_type": "code",
   "execution_count": 29,
   "metadata": {},
   "outputs": [
    {
     "data": {
      "text/plain": [
       "16.68"
      ]
     },
     "execution_count": 29,
     "metadata": {},
     "output_type": "execute_result"
    }
   ],
   "source": [
    "# Average rate of return\n",
    "average_rate_return = data2['Rate of Return'].sum() / len(data2['Year'])\n",
    "average_rate_return"
   ]
  },
  {
   "cell_type": "code",
   "execution_count": 30,
   "metadata": {},
   "outputs": [
    {
     "data": {
      "text/plain": [
       "221.55"
      ]
     },
     "execution_count": 30,
     "metadata": {},
     "output_type": "execute_result"
    }
   ],
   "source": [
    "# Variance\n",
    "Variance = data2['Squared Deviation'].sum() / (len(data2['Year']) - 1)\n",
    "Variance"
   ]
  },
  {
   "cell_type": "code",
   "execution_count": 32,
   "metadata": {},
   "outputs": [
    {
     "data": {
      "text/plain": [
       "14.88455575420375"
      ]
     },
     "execution_count": 32,
     "metadata": {},
     "output_type": "execute_result"
    }
   ],
   "source": [
    "# Standard Deviation\n",
    "Standard_Deviation = np.sqrt(Variance)\n",
    "Standard_Deviation"
   ]
  },
  {
   "cell_type": "code",
   "execution_count": 45,
   "metadata": {},
   "outputs": [],
   "source": [
    "# Sharpe ratio\n",
    "\n",
    "expected_return = 15\n",
    "risk_premium = 8\n",
    "standard_deviation = 22\n",
    "free_return = expected_return - risk_premium"
   ]
  },
  {
   "cell_type": "code",
   "execution_count": 65,
   "metadata": {},
   "outputs": [
    {
     "name": "stdout",
     "output_type": "stream",
     "text": [
      "위험자산비율: 1.4, 안전자산비율: -0.40\n"
     ]
    }
   ],
   "source": [
    "# calculating the ratio\n",
    "\n",
    "investment_budget = 300000\n",
    "borrowing = 120000\n",
    "\n",
    "risky_investment = investment_budget + borrowing\n",
    "risky_ratio = risky_investment / investment_budget \n",
    "free_ratio = 1 - risky_ratio\n",
    "print(f\"위험자산비율: {risky_ratio}, 안전자산비율: {free_ratio:.2f}\")"
   ]
  },
  {
   "cell_type": "code",
   "execution_count": 66,
   "metadata": {},
   "outputs": [
    {
     "data": {
      "text/plain": [
       "18.2"
      ]
     },
     "execution_count": 66,
     "metadata": {},
     "output_type": "execute_result"
    }
   ],
   "source": [
    "# calculating expected portfolio return\n",
    "expected_portfolio_return = risky_ratio*expected_return + free_ratio*free_return\n",
    "expected_portfolio_return"
   ]
  },
  {
   "cell_type": "code",
   "execution_count": 70,
   "metadata": {
    "scrolled": true
   },
   "outputs": [
    {
     "data": {
      "text/plain": [
       "30.799999999999997"
      ]
     },
     "execution_count": 70,
     "metadata": {},
     "output_type": "execute_result"
    }
   ],
   "source": [
    "# budget standard deviation \n",
    "budget_standard_deviation = risky_ratio * standard_deviation\n",
    "budget_standard_deviation"
   ]
  },
  {
   "cell_type": "code",
   "execution_count": 74,
   "metadata": {},
   "outputs": [
    {
     "name": "stdout",
     "output_type": "stream",
     "text": [
      "sharpe_ratio: 0.36\n"
     ]
    }
   ],
   "source": [
    "# calculating sharpe ratio\n",
    "sharpe_ratio = (expected_portfolio_return - free_return) / budget_standard_deviation\n",
    "sharpe_ratio\n",
    "\n",
    "print(f'sharpe_ratio: {sharpe_ratio:.2f}')"
   ]
  }
 ],
 "metadata": {
  "kernelspec": {
   "display_name": "Python 3",
   "language": "python",
   "name": "python3"
  },
  "language_info": {
   "codemirror_mode": {
    "name": "ipython",
    "version": 3
   },
   "file_extension": ".py",
   "mimetype": "text/x-python",
   "name": "python",
   "nbconvert_exporter": "python",
   "pygments_lexer": "ipython3",
   "version": "3.7.3"
  }
 },
 "nbformat": 4,
 "nbformat_minor": 2
}
